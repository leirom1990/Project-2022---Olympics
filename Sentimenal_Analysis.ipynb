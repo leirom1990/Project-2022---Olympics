{
 "cells": [
  {
   "cell_type": "code",
   "execution_count": 134,
   "id": "8f7e2d1f",
   "metadata": {},
   "outputs": [],
   "source": [
    "# Import libraries\n",
    "import pandas as pd\n",
    "import re\n",
    "import nltk\n",
    "from bs4 import BeautifulSoup\n",
    "import sklearn\n",
    "from nltk.corpus import stopwords\n",
    "from sklearn.feature_extraction.text import CountVectorizer\n",
    "from sklearn.feature_extraction.text import TfidfVectorizer #Count vectorizer for bag of words\n",
    "from nltk.sentiment import SentimentIntensityAnalyzer\n",
    "from matplotlib import pyplot as plt"
   ]
  },
  {
   "cell_type": "code",
   "execution_count": 135,
   "id": "0c98b268",
   "metadata": {},
   "outputs": [
    {
     "name": "stdout",
     "output_type": "stream",
     "text": [
      "(4999, 5)\n"
     ]
    },
    {
     "data": {
      "text/html": [
       "<div>\n",
       "<style scoped>\n",
       "    .dataframe tbody tr th:only-of-type {\n",
       "        vertical-align: middle;\n",
       "    }\n",
       "\n",
       "    .dataframe tbody tr th {\n",
       "        vertical-align: top;\n",
       "    }\n",
       "\n",
       "    .dataframe thead th {\n",
       "        text-align: right;\n",
       "    }\n",
       "</style>\n",
       "<table border=\"1\" class=\"dataframe\">\n",
       "  <thead>\n",
       "    <tr style=\"text-align: right;\">\n",
       "      <th></th>\n",
       "      <th>user_location</th>\n",
       "      <th>user_description</th>\n",
       "      <th>text</th>\n",
       "      <th>hashtags</th>\n",
       "      <th>source</th>\n",
       "    </tr>\n",
       "  </thead>\n",
       "  <tbody>\n",
       "    <tr>\n",
       "      <th>0</th>\n",
       "      <td>Udupi, India</td>\n",
       "      <td>Trying to be mediocre in many things</td>\n",
       "      <td>Let the party begin\\n#Tokyo2020</td>\n",
       "      <td>['Tokyo2020']</td>\n",
       "      <td>Twitter for Android</td>\n",
       "    </tr>\n",
       "    <tr>\n",
       "      <th>1</th>\n",
       "      <td>Manipur, India</td>\n",
       "      <td>Indian weightlifter 48 kg category. Champion🏆</td>\n",
       "      <td>Congratulations #Tokyo2020 https://t.co/8OFKMs...</td>\n",
       "      <td>['Tokyo2020']</td>\n",
       "      <td>Twitter for Android</td>\n",
       "    </tr>\n",
       "    <tr>\n",
       "      <th>2</th>\n",
       "      <td>Global</td>\n",
       "      <td>All breaking news related to Financial Market....</td>\n",
       "      <td>Big Breaking Now \\n\\nTokyo Olympic Update \\n\\n...</td>\n",
       "      <td>NaN</td>\n",
       "      <td>Twitter for Android</td>\n",
       "    </tr>\n",
       "    <tr>\n",
       "      <th>3</th>\n",
       "      <td>Lausanne</td>\n",
       "      <td>Official International Hockey Federation Twitt...</td>\n",
       "      <td>Q4: 🇬🇧3-1🇿🇦\\n\\nGreat Britain finally find a wa...</td>\n",
       "      <td>NaN</td>\n",
       "      <td>Twitter Web App</td>\n",
       "    </tr>\n",
       "    <tr>\n",
       "      <th>4</th>\n",
       "      <td>Australia</td>\n",
       "      <td>Football &amp; Tennis Coach</td>\n",
       "      <td>All I can think of every time I watch the ring...</td>\n",
       "      <td>['Tokyo2020', 'ArtisticGymnastics', '7Olympics...</td>\n",
       "      <td>Twitter for iPhone</td>\n",
       "    </tr>\n",
       "  </tbody>\n",
       "</table>\n",
       "</div>"
      ],
      "text/plain": [
       "    user_location                                   user_description  \\\n",
       "0    Udupi, India               Trying to be mediocre in many things   \n",
       "1  Manipur, India      Indian weightlifter 48 kg category. Champion🏆   \n",
       "2          Global  All breaking news related to Financial Market....   \n",
       "3        Lausanne  Official International Hockey Federation Twitt...   \n",
       "4       Australia                            Football & Tennis Coach   \n",
       "\n",
       "                                                text  \\\n",
       "0                    Let the party begin\\n#Tokyo2020   \n",
       "1  Congratulations #Tokyo2020 https://t.co/8OFKMs...   \n",
       "2  Big Breaking Now \\n\\nTokyo Olympic Update \\n\\n...   \n",
       "3  Q4: 🇬🇧3-1🇿🇦\\n\\nGreat Britain finally find a wa...   \n",
       "4  All I can think of every time I watch the ring...   \n",
       "\n",
       "                                            hashtags               source  \n",
       "0                                      ['Tokyo2020']  Twitter for Android  \n",
       "1                                      ['Tokyo2020']  Twitter for Android  \n",
       "2                                                NaN  Twitter for Android  \n",
       "3                                                NaN      Twitter Web App  \n",
       "4  ['Tokyo2020', 'ArtisticGymnastics', '7Olympics...   Twitter for iPhone  "
      ]
     },
     "execution_count": 135,
     "metadata": {},
     "output_type": "execute_result"
    }
   ],
   "source": [
    "#Read the data\n",
    "df = pd.read_csv(\"./tweets.csv\")\n",
    "print (df.shape)\n",
    "df.head(5)"
   ]
  },
  {
   "cell_type": "code",
   "execution_count": 136,
   "id": "5a4f8b9b",
   "metadata": {},
   "outputs": [
    {
     "name": "stdout",
     "output_type": "stream",
     "text": [
      "(4999, 1)\n"
     ]
    },
    {
     "data": {
      "text/html": [
       "<div>\n",
       "<style scoped>\n",
       "    .dataframe tbody tr th:only-of-type {\n",
       "        vertical-align: middle;\n",
       "    }\n",
       "\n",
       "    .dataframe tbody tr th {\n",
       "        vertical-align: top;\n",
       "    }\n",
       "\n",
       "    .dataframe thead th {\n",
       "        text-align: right;\n",
       "    }\n",
       "</style>\n",
       "<table border=\"1\" class=\"dataframe\">\n",
       "  <thead>\n",
       "    <tr style=\"text-align: right;\">\n",
       "      <th></th>\n",
       "      <th>text</th>\n",
       "    </tr>\n",
       "  </thead>\n",
       "  <tbody>\n",
       "    <tr>\n",
       "      <th>0</th>\n",
       "      <td>Let the party begin\\n#Tokyo2020</td>\n",
       "    </tr>\n",
       "    <tr>\n",
       "      <th>1</th>\n",
       "      <td>Congratulations #Tokyo2020 https://t.co/8OFKMs...</td>\n",
       "    </tr>\n",
       "    <tr>\n",
       "      <th>2</th>\n",
       "      <td>Big Breaking Now \\n\\nTokyo Olympic Update \\n\\n...</td>\n",
       "    </tr>\n",
       "    <tr>\n",
       "      <th>3</th>\n",
       "      <td>Q4: 🇬🇧3-1🇿🇦\\n\\nGreat Britain finally find a wa...</td>\n",
       "    </tr>\n",
       "    <tr>\n",
       "      <th>4</th>\n",
       "      <td>All I can think of every time I watch the ring...</td>\n",
       "    </tr>\n",
       "  </tbody>\n",
       "</table>\n",
       "</div>"
      ],
      "text/plain": [
       "                                                text\n",
       "0                    Let the party begin\\n#Tokyo2020\n",
       "1  Congratulations #Tokyo2020 https://t.co/8OFKMs...\n",
       "2  Big Breaking Now \\n\\nTokyo Olympic Update \\n\\n...\n",
       "3  Q4: 🇬🇧3-1🇿🇦\\n\\nGreat Britain finally find a wa...\n",
       "4  All I can think of every time I watch the ring..."
      ]
     },
     "execution_count": 136,
     "metadata": {},
     "output_type": "execute_result"
    }
   ],
   "source": [
    "# get the text col only\n",
    "df = df[['text']]\n",
    "print(df.shape)\n",
    "df.head(5)"
   ]
  },
  {
   "cell_type": "code",
   "execution_count": 137,
   "id": "b6cc118d",
   "metadata": {},
   "outputs": [],
   "source": [
    "# As the data is not labelled, get the sentiment using sentiment intensity analyzer\n",
    "sia = SentimentIntensityAnalyzer()\n",
    "def find_sentiment(post):\n",
    "    if sia.polarity_scores(post)[\"compound\"] > 0:\n",
    "        return \"Positive\"\n",
    "    elif sia.polarity_scores(post)[\"compound\"] < 0:\n",
    "        return \"Negative\"\n",
    "    else:\n",
    "        return \"Neutral\""
   ]
  },
  {
   "cell_type": "code",
   "execution_count": 138,
   "id": "d0c07e89",
   "metadata": {},
   "outputs": [],
   "source": [
    "def plot_sentiment(df, feature, title):\n",
    "    counts = df[feature].value_counts()\n",
    "    percent = counts/sum(counts)\n",
    "\n",
    "    fig, (ax1, ax2) = plt.subplots(ncols=2, figsize=(12, 5))\n",
    "\n",
    "    counts.plot(kind='bar', ax=ax1, color='green')\n",
    "    percent.plot(kind='bar', ax=ax2, color='blue')\n",
    "    ax1.set_ylabel(f'Counts : {title} sentiments', size=12)\n",
    "    ax2.set_ylabel(f'Percentage : {title} sentiments', size=12)\n",
    "    plt.suptitle(f\"Sentiment analysis: {title}\")\n",
    "    plt.tight_layout()\n",
    "    plt.show()"
   ]
  },
  {
   "cell_type": "code",
   "execution_count": 139,
   "id": "5375e0fd",
   "metadata": {},
   "outputs": [
    {
     "data": {
      "image/png": "[encoded data removed]",
      "text/plain": [
       "<Figure size 864x360 with 2 Axes>"
      ]
     },
     "metadata": {
      "needs_background": "light"
     },
     "output_type": "display_data"
    }
   ],
   "source": [
    "# Show the sentiment using graph\n",
    "df['text_sentiment'] = df['text'].apply(lambda x: find_sentiment(x))\n",
    "plot_sentiment(df, 'text_sentiment', 'Text')"
   ]
  },
  {
   "cell_type": "code",
   "execution_count": 140,
   "id": "c6b95522",
   "metadata": {},
   "outputs": [
    {
     "data": {
      "text/html": [
       "<div>\n",
       "<style scoped>\n",
       "    .dataframe tbody tr th:only-of-type {\n",
       "        vertical-align: middle;\n",
       "    }\n",
       "\n",
       "    .dataframe tbody tr th {\n",
       "        vertical-align: top;\n",
       "    }\n",
       "\n",
       "    .dataframe thead th {\n",
       "        text-align: right;\n",
       "    }\n",
       "</style>\n",
       "<table border=\"1\" class=\"dataframe\">\n",
       "  <thead>\n",
       "    <tr style=\"text-align: right;\">\n",
       "      <th></th>\n",
       "      <th>text</th>\n",
       "      <th>text_sentiment</th>\n",
       "    </tr>\n",
       "  </thead>\n",
       "  <tbody>\n",
       "    <tr>\n",
       "      <th>0</th>\n",
       "      <td>Let the party begin\\n#Tokyo2020</td>\n",
       "      <td>Positive</td>\n",
       "    </tr>\n",
       "    <tr>\n",
       "      <th>1</th>\n",
       "      <td>Congratulations #Tokyo2020 https://t.co/8OFKMs...</td>\n",
       "      <td>Positive</td>\n",
       "    </tr>\n",
       "    <tr>\n",
       "      <th>2</th>\n",
       "      <td>Big Breaking Now \\n\\nTokyo Olympic Update \\n\\n...</td>\n",
       "      <td>Positive</td>\n",
       "    </tr>\n",
       "    <tr>\n",
       "      <th>3</th>\n",
       "      <td>Q4: 🇬🇧3-1🇿🇦\\n\\nGreat Britain finally find a wa...</td>\n",
       "      <td>Positive</td>\n",
       "    </tr>\n",
       "    <tr>\n",
       "      <th>4</th>\n",
       "      <td>All I can think of every time I watch the ring...</td>\n",
       "      <td>Neutral</td>\n",
       "    </tr>\n",
       "  </tbody>\n",
       "</table>\n",
       "</div>"
      ],
      "text/plain": [
       "                                                text text_sentiment\n",
       "0                    Let the party begin\\n#Tokyo2020       Positive\n",
       "1  Congratulations #Tokyo2020 https://t.co/8OFKMs...       Positive\n",
       "2  Big Breaking Now \\n\\nTokyo Olympic Update \\n\\n...       Positive\n",
       "3  Q4: 🇬🇧3-1🇿🇦\\n\\nGreat Britain finally find a wa...       Positive\n",
       "4  All I can think of every time I watch the ring...        Neutral"
      ]
     },
     "execution_count": 140,
     "metadata": {},
     "output_type": "execute_result"
    }
   ],
   "source": [
    "df.head(5)"
   ]
  },
  {
   "cell_type": "code",
   "execution_count": 115,
   "id": "ebfda0b7",
   "metadata": {},
   "outputs": [],
   "source": [
    "#Data Cleaning\n",
    "\n",
    "#Removing the html strips\n",
    "def strip_html(text):\n",
    "    soup = BeautifulSoup(text, \"html.parser\")\n",
    "    return soup.get_text()\n",
    "\n",
    "#Removing the square brackets\n",
    "def remove_between_square_brackets(text):\n",
    "    return re.sub('\\[[^]]*\\]', '', text)\n",
    "\n",
    "#Removing the noisy text\n",
    "def denoise_text(text):\n",
    "    text = strip_html(text)\n",
    "    text = remove_between_square_brackets(text)\n",
    "    return text\n",
    "\n",
    "#Apply function on review column\n",
    "df['text']=df['text'].apply(denoise_text)\n",
    "\n",
    "#Define function for removing special characters\n",
    "def remove_special_characters(text, remove_digits=True):\n",
    "    pattern=r'[^a-zA-z0-9\\s]'\n",
    "    text=re.sub(pattern,'',text)\n",
    "    return text\n",
    "\n",
    "#Apply function on review column\n",
    "df['text']=df['text'].apply(remove_special_characters)"
   ]
  },
  {
   "cell_type": "code",
   "execution_count": 116,
   "id": "b1b04e55",
   "metadata": {},
   "outputs": [],
   "source": [
    "#Stemming the text\n",
    "\n",
    "def simple_stemmer(text):\n",
    "    ps=nltk.porter.PorterStemmer()\n",
    "    text= ' '.join([ps.stem(word) for word in text.split()])\n",
    "    return text\n",
    "#Apply function on review column\n",
    "df['text']=df['text'].apply(simple_stemmer)"
   ]
  },
  {
   "cell_type": "code",
   "execution_count": 117,
   "id": "cd6f81d1",
   "metadata": {},
   "outputs": [
    {
     "name": "stdout",
     "output_type": "stream",
     "text": [
      "{'no', \"that'll\", 'below', 're', 'between', 'having', 'here', \"won't\", 'under', 'very', 'over', 'at', 'once', 'be', 'haven', 'd', 'what', 'after', 'did', 'out', \"hasn't\", 'above', 'we', 'needn', 'any', 'same', 'hadn', \"you're\", 'mustn', 'ours', 'hers', 'by', \"mightn't\", 'than', \"needn't\", 'before', 'with', 'his', 'them', 'off', 'he', 'can', \"hadn't\", 'which', 'this', 'or', 'just', 'am', 'both', 'don', 'had', \"should've\", 'shan', 'you', 'into', 'too', 'where', 'weren', 'they', 'my', \"you'll\", 'other', 'it', 'more', 'wouldn', 'then', 'few', 'have', 'won', 'of', 'isn', 'do', \"haven't\", 'why', 'shouldn', 'each', 'she', 'theirs', 'should', 'about', 'are', 'him', 'such', 'yourselves', 'o', \"shouldn't\", 'from', 'those', 'there', 'couldn', 'down', 'so', 'who', 'aren', \"isn't\", 'our', 'to', 'a', 'm', 'if', 'was', 'until', 'your', 'didn', 'me', 'an', 'itself', 'their', 'own', 'further', \"mustn't\", 'all', \"didn't\", 'not', \"doesn't\", 'were', \"wouldn't\", 'only', 'himself', \"she's\", 'her', 'ourselves', \"weren't\", 'the', 'most', 'how', 'now', 'myself', 'ma', 'whom', 'in', 'some', 'yourself', 'has', 'again', 'on', 'while', 'mightn', 'y', \"shan't\", 'will', 'through', 'its', \"wasn't\", 'ain', 'yours', 'up', 'is', 'themselves', 'being', 'as', 'hasn', 'during', 've', 'because', \"you've\", 'll', 'herself', 'against', \"aren't\", 'wasn', 'but', 'doing', 'that', 'nor', 'doesn', \"couldn't\", 'these', 'for', 't', 'when', 'been', \"it's\", 'i', 's', 'does', 'and', \"you'd\", \"don't\"}\n",
      "179\n",
      "['i', 'me', 'my', 'myself', 'we', 'our', 'ours', 'ourselves', 'you', \"you're\", \"you've\", \"you'll\", \"you'd\", 'your', 'yours', 'yourself', 'yourselves', 'he', 'him', 'his']\n"
     ]
    }
   ],
   "source": [
    "#set stopwords to english\n",
    "stop=set(stopwords.words('english'))\n",
    "print(stop)\n",
    "\n",
    "english_stop_words = nltk.corpus.stopwords.words('english')\n",
    "print(len(english_stop_words))\n",
    "print (english_stop_words[:20])\n",
    "\n",
    "#remove stopwords\n",
    "def remove_stop_words(text):\n",
    "    for stopword in english_stop_words:\n",
    "        stopword = ' ' + stopword + ' '\n",
    "        text = text.replace(stopword, ' ')\n",
    "    return text\n",
    " \n",
    "df['text'] = df['text'].apply(remove_stop_words)"
   ]
  },
  {
   "cell_type": "code",
   "execution_count": 119,
   "id": "b8e80a36",
   "metadata": {},
   "outputs": [
    {
     "data": {
      "text/html": [
       "<div>\n",
       "<style scoped>\n",
       "    .dataframe tbody tr th:only-of-type {\n",
       "        vertical-align: middle;\n",
       "    }\n",
       "\n",
       "    .dataframe tbody tr th {\n",
       "        vertical-align: top;\n",
       "    }\n",
       "\n",
       "    .dataframe thead th {\n",
       "        text-align: right;\n",
       "    }\n",
       "</style>\n",
       "<table border=\"1\" class=\"dataframe\">\n",
       "  <thead>\n",
       "    <tr style=\"text-align: right;\">\n",
       "      <th></th>\n",
       "      <th>text</th>\n",
       "      <th>text_sentiment</th>\n",
       "    </tr>\n",
       "  </thead>\n",
       "  <tbody>\n",
       "    <tr>\n",
       "      <th>0</th>\n",
       "      <td>let parti begin tokyo2020</td>\n",
       "      <td>Positive</td>\n",
       "    </tr>\n",
       "    <tr>\n",
       "      <th>1</th>\n",
       "      <td>congratul tokyo2020 httpstco8ofkms9ukq</td>\n",
       "      <td>Positive</td>\n",
       "    </tr>\n",
       "    <tr>\n",
       "      <th>2</th>\n",
       "      <td>big break tokyo olymp updat japan hi first gol...</td>\n",
       "      <td>Positive</td>\n",
       "    </tr>\n",
       "    <tr>\n",
       "      <th>3</th>\n",
       "      <td>q4 31 great britain final find way way pieters...</td>\n",
       "      <td>Positive</td>\n",
       "    </tr>\n",
       "    <tr>\n",
       "      <th>4</th>\n",
       "      <td>all think everi time watch ring event tokyo202...</td>\n",
       "      <td>Neutral</td>\n",
       "    </tr>\n",
       "  </tbody>\n",
       "</table>\n",
       "</div>"
      ],
      "text/plain": [
       "                                                text text_sentiment\n",
       "0                          let parti begin tokyo2020       Positive\n",
       "1             congratul tokyo2020 httpstco8ofkms9ukq       Positive\n",
       "2  big break tokyo olymp updat japan hi first gol...       Positive\n",
       "3  q4 31 great britain final find way way pieters...       Positive\n",
       "4  all think everi time watch ring event tokyo202...        Neutral"
      ]
     },
     "execution_count": 119,
     "metadata": {},
     "output_type": "execute_result"
    }
   ],
   "source": [
    "df.head(5)"
   ]
  },
  {
   "cell_type": "code",
   "execution_count": 120,
   "id": "e40539e3",
   "metadata": {},
   "outputs": [],
   "source": [
    "#divide our dataset into training and test\n",
    "tweets_train = df[:4000]\n",
    "tweets_test = df[4000:]"
   ]
  },
  {
   "cell_type": "code",
   "execution_count": 121,
   "id": "0e091927",
   "metadata": {},
   "outputs": [
    {
     "name": "stdout",
     "output_type": "stream",
     "text": [
      "(4000, 8932) (999, 8932)\n"
     ]
    }
   ],
   "source": [
    "#fit our vectorizer on the training data and use it to transform the test data\n",
    "vectorizer = sklearn.feature_extraction.text.CountVectorizer(binary=False,ngram_range=(1,1))\n",
    "tf_features_train = vectorizer.fit_transform(tweets_train['text'])\n",
    "tf_features_test = vectorizer.transform(tweets_test['text'])\n",
    "print (tf_features_train.shape, tf_features_test.shape)"
   ]
  },
  {
   "cell_type": "code",
   "execution_count": 123,
   "id": "63226ae6",
   "metadata": {},
   "outputs": [
    {
     "name": "stdout",
     "output_type": "stream",
     "text": [
      "4000 999\n"
     ]
    }
   ],
   "source": [
    "# Labels\n",
    "train_labels = [1 if sentiment=='Positive' else 0 for sentiment in tweets_train['text_sentiment']]\n",
    "test_labels = [1 if sentiment=='Positive' else 0 for sentiment in tweets_test['text_sentiment']]\n",
    "print (len(train_labels), len(test_labels))\n"
   ]
  },
  {
   "cell_type": "code",
   "execution_count": 125,
   "id": "81966a64",
   "metadata": {},
   "outputs": [
    {
     "name": "stdout",
     "output_type": "stream",
     "text": [
      "LogisticRegression()\n",
      "              precision    recall  f1-score   support\n",
      "\n",
      "    Negative       0.81      0.90      0.85       391\n",
      "    Positive       0.93      0.87      0.90       608\n",
      "\n",
      "    accuracy                           0.88       999\n",
      "   macro avg       0.87      0.88      0.88       999\n",
      "weighted avg       0.88      0.88      0.88       999\n",
      "\n",
      "[[352  39]\n",
      " [ 82 526]]\n"
     ]
    }
   ],
   "source": [
    "# Logistic regression\n",
    "clf = sklearn.linear_model.LogisticRegression()\n",
    "clf.fit(tf_features_train, train_labels)\n",
    "print (clf)\n",
    "predictions = clf.predict(tf_features_test)\n",
    "print(sklearn.metrics.classification_report(test_labels, predictions, target_names=['Negative', 'Positive']))\n",
    "print(sklearn.metrics.confusion_matrix(test_labels, predictions, labels=[0, 1]))"
   ]
  },
  {
   "cell_type": "code",
   "execution_count": 126,
   "id": "fe131d64",
   "metadata": {},
   "outputs": [
    {
     "name": "stdout",
     "output_type": "stream",
     "text": [
      "(4000, 8932) (999, 8932)\n",
      "              precision    recall  f1-score   support\n",
      "\n",
      "    Negative       0.82      0.87      0.85       391\n",
      "    Positive       0.91      0.88      0.90       608\n",
      "\n",
      "    accuracy                           0.88       999\n",
      "   macro avg       0.87      0.88      0.87       999\n",
      "weighted avg       0.88      0.88      0.88       999\n",
      "\n",
      "[[341  50]\n",
      " [ 74 534]]\n"
     ]
    }
   ],
   "source": [
    "#SVM\n",
    "vectorizer = sklearn.feature_extraction.text.CountVectorizer(binary=False,ngram_range=(1,1))\n",
    "tf_features_train = vectorizer.fit_transform(tweets_train['text'])\n",
    "tf_features_test = vectorizer.transform(tweets_test['text'])\n",
    "print (tf_features_train.shape, tf_features_test.shape)\n",
    " \n",
    "clf = sklearn.svm.LinearSVC()\n",
    "clf.fit(tf_features_train, train_labels)\n",
    " \n",
    "predictions = clf.predict(tf_features_test)\n",
    "print(sklearn.metrics.classification_report(test_labels, predictions, target_names=['Negative', 'Positive']))\n",
    "print(sklearn.metrics.confusion_matrix(test_labels, predictions, labels=[0, 1]))"
   ]
  },
  {
   "cell_type": "code",
   "execution_count": 127,
   "id": "76fb904b",
   "metadata": {},
   "outputs": [
    {
     "name": "stdout",
     "output_type": "stream",
     "text": [
      "(4000, 8932) (999, 8932)\n",
      "              precision    recall  f1-score   support\n",
      "\n",
      "    Negative       0.76      0.74      0.75       391\n",
      "    Positive       0.84      0.85      0.84       608\n",
      "\n",
      "    accuracy                           0.81       999\n",
      "   macro avg       0.80      0.79      0.80       999\n",
      "weighted avg       0.81      0.81      0.81       999\n",
      "\n",
      "[[291 100]\n",
      " [ 94 514]]\n"
     ]
    }
   ],
   "source": [
    "# naive Bayes\n",
    "vectorizer = sklearn.feature_extraction.text.CountVectorizer(binary=False,ngram_range=(1,1))\n",
    "tf_features_train = vectorizer.fit_transform(tweets_train['text'])\n",
    "tf_features_test = vectorizer.transform(tweets_test['text'])\n",
    "print (tf_features_train.shape, tf_features_test.shape)\n",
    "\n",
    "clf = MultinomialNB()\n",
    "clf.fit(tf_features_train, train_labels)\n",
    " \n",
    "predictions = clf.predict(tf_features_test)\n",
    "print(sklearn.metrics.classification_report(test_labels, predictions, target_names=['Negative', 'Positive']))\n",
    "print(sklearn.metrics.confusion_matrix(test_labels, predictions, labels=[0, 1]))"
   ]
  },
  {
   "cell_type": "code",
   "execution_count": null,
   "id": "c0b42ca9",
   "metadata": {},
   "outputs": [],
   "source": []
  }
 ],
 "metadata": {
  "kernelspec": {
   "display_name": "Python 3",
   "language": "python",
   "name": "python3"
  },
  "language_info": {
   "codemirror_mode": {
    "name": "ipython",
    "version": 3
   },
   "file_extension": ".py",
   "mimetype": "text/x-python",
   "name": "python",
   "nbconvert_exporter": "python",
   "pygments_lexer": "ipython3",
   "version": "3.8.8"
  }
 },
 "nbformat": 4,
 "nbformat_minor": 5
}
